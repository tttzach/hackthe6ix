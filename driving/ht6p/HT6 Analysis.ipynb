{
 "cells": [
  {
   "cell_type": "code",
   "execution_count": 145,
   "metadata": {},
   "outputs": [
    {
     "name": "stdout",
     "output_type": "stream",
     "text": [
      "The history saving thread hit an unexpected error (OperationalError('database or disk is full')).History will not be written to the database.\n"
     ]
    }
   ],
   "source": [
    "import pandas as pd\n",
    "import numpy as np"
   ]
  },
  {
   "cell_type": "code",
   "execution_count": 138,
   "metadata": {},
   "outputs": [],
   "source": [
    "df = pandas.read_csv('terribledriver.csv', header=None, names=['time', 'speed'], usecols=[0,1])"
   ]
  },
  {
   "cell_type": "code",
   "execution_count": 139,
   "metadata": {},
   "outputs": [],
   "source": [
    "converted = []\n",
    "timeInterval = 1\n",
    "countSpeeds = 0\n",
    "addSpeeds = 0"
   ]
  },
  {
   "cell_type": "code",
   "execution_count": 144,
   "metadata": {},
   "outputs": [
    {
     "name": "stdout",
     "output_type": "stream",
     "text": [
      "43.0 58.0 63.0 53.85840707964602\n"
     ]
    }
   ],
   "source": [
    "converted = []\n",
    "timeInterval = 1\n",
    "countSpeeds = 0\n",
    "addSpeeds = 0\n",
    "\n",
    "for index, row in df.iterrows():\n",
    "    time = row['time']\n",
    "    speed = abs(row['speed'])\n",
    "    if timeInterval < time:\n",
    "        timeInterval += 1\n",
    "        newSpeed = int(addSpeeds * 0.01 * 3.6)\n",
    "        if newSpeed >= 5:\n",
    "            converted.append(newSpeed)\n",
    "        addSpeeds = 0\n",
    "    else:\n",
    "        addSpeeds += speed\n",
    "newSpeed = int(addSpeeds * 0.01 * 3.6)\n",
    "if newSpeed >= 5:\n",
    "    converted.append(newSpeed)\n",
    "\n",
    "converted.sort()\n",
    "#print(converted)\n",
    "firstq = np.percentile(converted, 25)\n",
    "secondq = np.percentile(converted, 50)\n",
    "thirdq = np.percentile(converted, 75)\n",
    "average = np.mean(converted)\n",
    "print(firstq, secondq, thirdq, average)"
   ]
  },
  {
   "cell_type": "code",
   "execution_count": 119,
   "metadata": {},
   "outputs": [
    {
     "name": "stdout",
     "output_type": "stream",
     "text": [
      "0\n"
     ]
    }
   ],
   "source": [
    "hardbrakeCount = 0\n",
    "consecutiveCount = 0\n",
    "prevSpeed = None\n",
    "prevTime = None\n",
    "fast = False\n",
    "\n",
    "\n",
    "for index, row in df.iterrows():\n",
    "    time = row['time']\n",
    "    speed = row['speed'] * 3.6\n",
    "    if not prevTime or prevTime + 0.2 <= time:\n",
    "        if not prevTime and speed > 32.1869:\n",
    "            prevSpeed = speed\n",
    "            prevTime = time\n",
    "            fast = True\n",
    "            continue\n",
    "        if fast:\n",
    "            if speed <= prevSpeed - 14.4841 or speed == 0:\n",
    "                prevSpeed = speed\n",
    "                prevTime = time\n",
    "                consecutiveCount += 1\n",
    "            else:\n",
    "                consecutiveCount = 0\n",
    "                prevSpeed = None\n",
    "                prevTime = None\n",
    "                fast = False\n",
    "                continue\n",
    "            if consecutiveCount == 3:\n",
    "                hardbrakeCount += 1\n",
    "                consecutiveCount = 0\n",
    "                prevSpeed = None\n",
    "                prevTime = None\n",
    "                fast = False\n",
    "                \n",
    "print(hardbrakeCount)"
   ]
  },
  {
   "cell_type": "code",
   "execution_count": 147,
   "metadata": {},
   "outputs": [
    {
     "ename": "SyntaxError",
     "evalue": "unexpected EOF while parsing (<ipython-input-147-753ccb025760>, line 46)",
     "output_type": "error",
     "traceback": [
      "\u001b[0;36m  File \u001b[0;32m\"<ipython-input-147-753ccb025760>\"\u001b[0;36m, line \u001b[0;32m46\u001b[0m\n\u001b[0;31m    #    df.to_csv('terribledriver.csv', sep=',', header=False)\u001b[0m\n\u001b[0m                                                               ^\u001b[0m\n\u001b[0;31mSyntaxError\u001b[0m\u001b[0;31m:\u001b[0m unexpected EOF while parsing\n"
     ]
    }
   ],
   "source": [
    "all_files = glob.glob(\"*.csv\")\n",
    "\n",
    "filenames = glob.glob('*.{}'.format('csv'))\n",
    "\n",
    "print(type(filenames))\n",
    "print(filenames)\n",
    "\n",
    "df_from_each_file = (pd.read_csv(f, header=None, names=['Time (in seconds)',\n",
    "                                                                       'Vehicle’s speed (in m/s)',\n",
    "                                                                       'Shift number (0 = intermediate position)',\n",
    "                                                                       'Engine Load (% of max power)',\n",
    "                                                                       'Total Acceleration (m/s^2)',\n",
    "                                                                       'Engine RPM',\n",
    "                                                                       'Pitch',\n",
    "                                                                       'Lateral Acceleration (m/s^2)',\n",
    "                                                                       'Passenger count (0 - 5)',\n",
    "                                                                       'Car’s load (0 - 10)',\n",
    "                                                                       'Air conditioning status (0 - 4)',\n",
    "                                                                       'Window opening (0 - 10)',\n",
    "                                                                       'Radio volume (0 - 10)',\n",
    "                                                                       'Rain intensity (0 - 10)',\n",
    "                                                                       'Visibility (0 - 10)',\n",
    "                                                                       'Driver’s wellbeing (0 - 10)',\n",
    "                                                                       'Driver’s rush (0 - 10)']) for f in all_files)\n",
    "def compress(df):\n",
    "    df1 = pd.Dataframe({})\n",
    "    timeInterval = 1\n",
    "    countSpeeds = 0\n",
    "    addSpeeds = 0\n",
    "    for index, row in df.iterrows():\n",
    "        time = row['Time (in seconds)']\n",
    "        speed = abs(row['Vehicle’s speed (in m/s)'])\n",
    "        if timeInterval < time:\n",
    "            timeInterval += 1\n",
    "            df1.append(addSpeeds)\n",
    "            addSpeeds = 0\n",
    "        else:\n",
    "            addSpeeds += speed\n",
    "    if not countSpeeds:\n",
    "        df1.append(addSpeeds\n",
    "    #return df1\n",
    "    \n",
    "\n",
    "#for df in df_from_each_file:\n",
    "#    df = compress(df)\n",
    "#    df.to_csv('terribledriver.csv', sep=',', header=False)"
   ]
  },
  {
   "cell_type": "code",
   "execution_count": null,
   "metadata": {},
   "outputs": [],
   "source": []
  }
 ],
 "metadata": {
  "kernelspec": {
   "display_name": "Python 3",
   "language": "python",
   "name": "python3"
  },
  "language_info": {
   "codemirror_mode": {
    "name": "ipython",
    "version": 3
   },
   "file_extension": ".py",
   "mimetype": "text/x-python",
   "name": "python",
   "nbconvert_exporter": "python",
   "pygments_lexer": "ipython3",
   "version": "3.7.3"
  }
 },
 "nbformat": 4,
 "nbformat_minor": 2
}
